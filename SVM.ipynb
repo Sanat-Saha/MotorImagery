{
 "cells": [
  {
   "cell_type": "code",
   "execution_count": 1,
   "metadata": {
    "collapsed": false
   },
   "outputs": [],
   "source": [
    "from __future__ import division, print_function\n",
    "import numpy as np\n",
    "import csv\n",
    "from sklearn import datasets, svm \n",
    "from sklearn.decomposition import PCA\n",
    "from sklearn.discriminant_analysis import LinearDiscriminantAnalysis\n",
    "import matplotlib.pyplot as plt\n",
    "%matplotlib inline"
   ]
  },
  {
   "cell_type": "code",
   "execution_count": 2,
   "metadata": {
    "collapsed": true
   },
   "outputs": [],
   "source": [
    "X = np.empty((0,214), float)\n",
    "Y = np.empty(0, str)\n",
    "i = 0\n",
    "r = csv.reader(open('Train_Data_New/Normalizedfeatures.csv',\"rb\"),delimiter=',') # Here your csv file\n",
    "for l in r:\n",
    "    if i == 1:\n",
    "        X = np.append(X, np.array([l[0:214]]), axis=0)\n",
    "        Y = np.append(Y, np.array([l[214]]), axis=0)\n",
    "    else:\n",
    "        i = 1\n",
    "        features = l[0:214]\n",
    "        output = l[214]\n",
    "        \n",
    "X = X.astype(float)\n",
    "Y = Y.astype(str)"
   ]
  },
  {
   "cell_type": "code",
   "execution_count": 3,
   "metadata": {
    "collapsed": false
   },
   "outputs": [],
   "source": [
    "number_of_samples = len(Y)\n",
    "#Splitting into training, validation and test sets\n",
    "random_indices = np.random.permutation(number_of_samples)\n",
    "#Training set\n",
    "num_training_samples = int(number_of_samples*0.80)\n",
    "X_train = X[random_indices[:num_training_samples]]\n",
    "Y_train = Y[random_indices[:num_training_samples]]\n",
    "#Test set\n",
    "num_test_samples = int(number_of_samples*0.20)\n",
    "X_test = X[random_indices[-num_test_samples:]]\n",
    "Y_test = Y[random_indices[-num_test_samples:]]"
   ]
  },
  {
   "cell_type": "code",
   "execution_count": 4,
   "metadata": {
    "collapsed": false,
    "scrolled": true
   },
   "outputs": [
    {
     "name": "stderr",
     "output_type": "stream",
     "text": [
      "C:\\Anaconda2\\lib\\site-packages\\sklearn\\discriminant_analysis.py:457: UserWarning: The priors do not sum to 1. Renormalizing\n",
      "  UserWarning)\n"
     ]
    },
    {
     "name": "stdout",
     "output_type": "stream",
     "text": [
      "test misclassification percentage(linear kernel) = 62.2023809524 %\n",
      "train misclassification percentage(linear kernel) = 3.73511904762 %\n"
     ]
    }
   ],
   "source": [
    "# #Reduce the dimensionality of the feature space\n",
    "# pca = PCA(svd_solver='randomized', whiten=True).fit(X)\n",
    "# var_list = pca.explained_variance_ratio_.cumsum()\n",
    "# for i in range(len(var_list)):\n",
    "#     if var_list[i] > 0.99:\n",
    "#         n_components = i+1\n",
    "#         break\n",
    "# print('n_components=%d'%n_components)\n",
    "# #Finding the top n_components principal components in the data\n",
    "# pca = PCA(svd_solver='randomized',n_components=n_components, whiten=True).fit(X_train)\n",
    "\n",
    "test_error=[]\n",
    "train_error=[]\n",
    "for i in range(100):\n",
    "    number_of_samples = len(Y)\n",
    "    #Splitting into training, validation and test sets\n",
    "    random_indices = np.random.permutation(number_of_samples)\n",
    "    #Training set\n",
    "    num_training_samples = int(number_of_samples*0.80)\n",
    "    X_train = X[random_indices[:num_training_samples]]\n",
    "    Y_train = Y[random_indices[:num_training_samples]]\n",
    "    #Test set\n",
    "    num_test_samples = int(number_of_samples*0.20)\n",
    "    X_test = X[random_indices[-num_test_samples:]]\n",
    "    Y_test = Y[random_indices[-num_test_samples:]]\n",
    "    \n",
    "    pca = LinearDiscriminantAnalysis().fit(X_train,Y_train) #Used LDA for dimensionality reduction\n",
    "\n",
    "    X_train_pca = pca.transform(X_train)\n",
    "    X_test_pca = pca.transform(X_test)\n",
    "\n",
    "    model = svm.SVC(kernel='linear')\n",
    "    model.fit(X_train_pca, Y_train)\n",
    "\n",
    "    test_set_predictions = np.array([model.predict(X_test_pca[i].reshape((1,len(X_test_pca[0]))))[0] for i in range(X_test_pca.shape[0])])\n",
    "    train_set_predictions = np.array([model.predict(X_train_pca[i].reshape((1,len(X_train_pca[0]))))[0] for i in range(X_train_pca.shape[0])])\n",
    "\n",
    "    test_misclassification_percentage = 0.0\n",
    "    for i in range(len(test_set_predictions)):\n",
    "        if test_set_predictions[i]!=Y_test[i]:\n",
    "            test_misclassification_percentage+=1.0\n",
    "    test_misclassification_percentage *= 100.0/len(Y_test)\n",
    "    train_misclassification_percentage = 0.0\n",
    "    for i in range(len(train_set_predictions)):\n",
    "        if train_set_predictions[i]!=Y_train[i]:\n",
    "            train_misclassification_percentage+=1.0\n",
    "    train_misclassification_percentage *= 100.0/len(Y_train)\n",
    "    test_error.append(test_misclassification_percentage)\n",
    "    train_error.append(train_misclassification_percentage)\n",
    "\n",
    "print ('test misclassification percentage(linear kernel) =', np.mean(test_error), '%')\n",
    "print ('train misclassification percentage(linear kernel) =', np.mean(train_error), '%')"
   ]
  },
  {
   "cell_type": "code",
   "execution_count": 5,
   "metadata": {
    "collapsed": false
   },
   "outputs": [
    {
     "name": "stdout",
     "output_type": "stream",
     "text": [
      "test misclassification percentage(poly kernel) = 62.1785714286 %\n",
      "train misclassification percentage(poly kernel) = 3.69642857143 %\n"
     ]
    }
   ],
   "source": [
    "#Reduce the dimensionality of the feature space\n",
    "# pca = PCA(svd_solver='randomized', whiten=True).fit(X)\n",
    "# var_list = pca.explained_variance_ratio_.cumsum()\n",
    "# for i in range(len(var_list)):\n",
    "#     if var_list[i] > 0.99:\n",
    "#         n_components = i+1\n",
    "#         break\n",
    "# print('n_components=%d'%n_components)\n",
    "# #Finding the top n_components principal components in the data\n",
    "# pca = PCA(svd_solver='randomized',n_components=n_components, whiten=True).fit(X_train)\n",
    "\n",
    "test_error=[]\n",
    "train_error=[]\n",
    "for i in range(100):\n",
    "    number_of_samples = len(Y)\n",
    "    #Splitting into training, validation and test sets\n",
    "    random_indices = np.random.permutation(number_of_samples)\n",
    "    #Training set\n",
    "    num_training_samples = int(number_of_samples*0.80)\n",
    "    X_train = X[random_indices[:num_training_samples]]\n",
    "    Y_train = Y[random_indices[:num_training_samples]]\n",
    "    #Test set\n",
    "    num_test_samples = int(number_of_samples*0.20)\n",
    "    X_test = X[random_indices[-num_test_samples:]]\n",
    "    Y_test = Y[random_indices[-num_test_samples:]]\n",
    "    \n",
    "    pca = LinearDiscriminantAnalysis().fit(X_train,Y_train) #Used LDA for dimensionality reduction\n",
    "\n",
    "    X_train_pca = pca.transform(X_train)\n",
    "    X_test_pca = pca.transform(X_test)\n",
    "\n",
    "    model = svm.SVC(kernel='poly')\n",
    "    model.fit(X_train_pca, Y_train)\n",
    "\n",
    "    test_set_predictions = np.array([model.predict(X_test_pca[i].reshape((1,len(X_test_pca[0]))))[0] for i in range(X_test_pca.shape[0])])\n",
    "    train_set_predictions = np.array([model.predict(X_train_pca[i].reshape((1,len(X_train_pca[0]))))[0] for i in range(X_train_pca.shape[0])])\n",
    "\n",
    "    test_misclassification_percentage = 0.0\n",
    "    for i in range(len(test_set_predictions)):\n",
    "        if test_set_predictions[i]!=Y_test[i]:\n",
    "            test_misclassification_percentage+=1.0\n",
    "    test_misclassification_percentage *= 100.0/len(Y_test)\n",
    "    train_misclassification_percentage = 0.0\n",
    "    for i in range(len(train_set_predictions)):\n",
    "        if train_set_predictions[i]!=Y_train[i]:\n",
    "            train_misclassification_percentage+=1.0\n",
    "    train_misclassification_percentage *= 100.0/len(Y_train)\n",
    "    test_error.append(test_misclassification_percentage)\n",
    "    train_error.append(train_misclassification_percentage)\n",
    "\n",
    "print ('test misclassification percentage(poly kernel) =', np.mean(test_error), '%')\n",
    "print ('train misclassification percentage(poly kernel) =', np.mean(train_error), '%')"
   ]
  },
  {
   "cell_type": "code",
   "execution_count": 6,
   "metadata": {
    "collapsed": false
   },
   "outputs": [
    {
     "name": "stdout",
     "output_type": "stream",
     "text": [
      "test misclassification percentage(rbf kernel) = 67.25 %\n",
      "train misclassification percentage(rbf kernel) = 3.00595238095 %\n"
     ]
    }
   ],
   "source": [
    "#Reduce the dimensionality of the feature space\n",
    "# pca = PCA(svd_solver='randomized', whiten=True).fit(X)\n",
    "# var_list = pca.explained_variance_ratio_.cumsum()\n",
    "# for i in range(len(var_list)):\n",
    "#     if var_list[i] > 0.99:\n",
    "#         n_components = i+1\n",
    "#         break\n",
    "# print('n_components=%d'%n_components)\n",
    "# #Finding the top n_components principal components in the data\n",
    "# pca = PCA(svd_solver='randomized',n_components=n_components, whiten=True).fit(X_train)\n",
    "\n",
    "test_error=[]\n",
    "train_error=[]\n",
    "for i in range(100):\n",
    "    number_of_samples = len(Y)\n",
    "    #Splitting into training, validation and test sets\n",
    "    random_indices = np.random.permutation(number_of_samples)\n",
    "    #Training set\n",
    "    num_training_samples = int(number_of_samples*0.80)\n",
    "    X_train = X[random_indices[:num_training_samples]]\n",
    "    Y_train = Y[random_indices[:num_training_samples]]\n",
    "    #Test set\n",
    "    num_test_samples = int(number_of_samples*0.20)\n",
    "    X_test = X[random_indices[-num_test_samples:]]\n",
    "    Y_test = Y[random_indices[-num_test_samples:]]\n",
    "    \n",
    "    pca = LinearDiscriminantAnalysis().fit(X_train,Y_train) #Used LDA for dimensionality reduction\n",
    "\n",
    "    X_train_pca = pca.transform(X_train)\n",
    "    X_test_pca = pca.transform(X_test)\n",
    "\n",
    "    model = svm.SVC(kernel='rbf')\n",
    "    model.fit(X_train_pca, Y_train)\n",
    "\n",
    "    test_set_predictions = np.array([model.predict(X_test_pca[i].reshape((1,len(X_test_pca[0]))))[0] for i in range(X_test_pca.shape[0])])\n",
    "    train_set_predictions = np.array([model.predict(X_train_pca[i].reshape((1,len(X_train_pca[0]))))[0] for i in range(X_train_pca.shape[0])])\n",
    "\n",
    "#     test_set_predictions = pca.predict(X_test)\n",
    "#     train_set_predictions = pca.predict(X_train)\n",
    "    \n",
    "    test_misclassification_percentage = 0.0\n",
    "    for i in range(len(test_set_predictions)):\n",
    "        if test_set_predictions[i]!=Y_test[i]:\n",
    "            test_misclassification_percentage+=1.0\n",
    "    test_misclassification_percentage *= 100.0/len(Y_test)\n",
    "    train_misclassification_percentage = 0.0\n",
    "    for i in range(len(train_set_predictions)):\n",
    "        if train_set_predictions[i]!=Y_train[i]:\n",
    "            train_misclassification_percentage+=1.0\n",
    "    train_misclassification_percentage *= 100.0/len(Y_train)\n",
    "    test_error.append(test_misclassification_percentage)\n",
    "    train_error.append(train_misclassification_percentage)\n",
    "\n",
    "print ('test misclassification percentage(rbf kernel) =', np.mean(test_error), '%')\n",
    "print ('train misclassification percentage(rbf kernel) =', np.mean(train_error), '%')"
   ]
  }
 ],
 "metadata": {
  "anaconda-cloud": {},
  "kernelspec": {
   "display_name": "Python [Root]",
   "language": "python",
   "name": "Python [Root]"
  },
  "language_info": {
   "codemirror_mode": {
    "name": "ipython",
    "version": 2
   },
   "file_extension": ".py",
   "mimetype": "text/x-python",
   "name": "python",
   "nbconvert_exporter": "python",
   "pygments_lexer": "ipython2",
   "version": "2.7.12"
  }
 },
 "nbformat": 4,
 "nbformat_minor": 0
}
